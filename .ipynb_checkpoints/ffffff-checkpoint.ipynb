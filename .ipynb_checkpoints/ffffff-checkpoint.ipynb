{
 "cells": [
  {
   "cell_type": "code",
   "execution_count": 1,
   "metadata": {},
   "outputs": [
    {
     "name": "stdout",
     "output_type": "stream",
     "text": [
      "ironman_zeros----> [0 0 0 0 0 0 0 0 0 0]\n",
      "ironman_ones----> [[1. 1. 1. 1. 1.]\n",
      " [1. 1. 1. 1. 1.]\n",
      " [1. 1. 1. 1. 1.]]\n",
      "ironman_empty----> [[0. 0.]\n",
      " [0. 0.]\n",
      " [0. 0.]]\n",
      "ironman_full----> [[2.2 2.2]\n",
      " [2.2 2.2]\n",
      " [2.2 2.2]\n",
      " [2.2 2.2]]\n",
      "ironman_arange----> [ 0  2  4  6  8 10 12 14 16 18]\n",
      "ironman_linspace----> [0.   0.25 0.5  0.75 1.  ]\n"
     ]
    }
   ],
   "source": [
    "import numpy as np\n",
    "ironman_zeros = np.zeros(10, dtype=int) #建立一個內容為0 長度為10的整數陣列\n",
    "ironman_ones = np.ones((3,5) ,dtype=float)  #建立一個內容為1 3x5 的浮點數陣列\n",
    "ironman_empty = np.empty((3,2) )  #建立一個內容為1 3x2 的無初始值陣列\n",
    "ironman_full = np.full((4,2), 2.2) #建立一個內容為2.2 4x2 的浮點數陣列\n",
    "\n",
    "print('ironman_zeros---->', ironman_zeros)\n",
    "print('ironman_ones---->', ironman_ones)\n",
    "print('ironman_empty---->', ironman_empty)\n",
    "print('ironman_full---->', ironman_full)\n",
    "\n",
    "ironman_arange = np.arange(0,20,2) #建立一個依序填滿的陣列 0到20間隔為2\n",
    "ironman_linspace = np.linspace(0,1,5) #建立一個5個值的陣列，在0到1間平均分布\n",
    "\n",
    "print('ironman_arange---->', ironman_arange)\n",
    "print('ironman_linspace---->', ironman_linspace)"
   ]
  },
  {
   "cell_type": "code",
   "execution_count": 2,
   "metadata": {},
   "outputs": [
    {
     "name": "stdout",
     "output_type": "stream",
     "text": [
      "x-----> [1 2 3]\n",
      "x_reshape-----> [[1]\n",
      " [2]\n",
      " [3]]\n"
     ]
    }
   ],
   "source": [
    "x = np.array([1,2,3])\n",
    "print('x----->', x)\n",
    "x_reshape = x.reshape((3,1))         # 透過reshape建立欄向量\n",
    "print('x_reshape----->', x_reshape)\n",
    "\n"
   ]
  },
  {
   "cell_type": "code",
   "execution_count": 3,
   "metadata": {},
   "outputs": [
    {
     "data": {
      "text/plain": [
       "array([[ 1,  2,  3,  4,  5],\n",
       "       [ 2,  4,  6,  8, 10],\n",
       "       [ 3,  6,  9, 12, 15],\n",
       "       [ 4,  8, 12, 16, 20],\n",
       "       [ 5, 10, 15, 20, 25]])"
      ]
     },
     "execution_count": 3,
     "metadata": {},
     "output_type": "execute_result"
    }
   ],
   "source": [
    "y = np.arange(1,6)\n",
    "np.multiply.outer(y, y)\n"
   ]
  },
  {
   "cell_type": "code",
   "execution_count": 4,
   "metadata": {},
   "outputs": [
    {
     "name": "stdout",
     "output_type": "stream",
     "text": [
      "x-----------> [57  3 14 50 79 28 33 98 37 87]\n"
     ]
    }
   ],
   "source": [
    "import numpy as np\n",
    "x = np.random.randint(0,100,size = 10)\n",
    "print('x----------->',x)"
   ]
  },
  {
   "cell_type": "code",
   "execution_count": 5,
   "metadata": {},
   "outputs": [
    {
     "data": {
      "text/plain": [
       "array([[57, 50],\n",
       "       [14, 33]])"
      ]
     },
     "execution_count": 5,
     "metadata": {},
     "output_type": "execute_result"
    }
   ],
   "source": [
    "ironman = np.array([\n",
    "    [0,3],\n",
    "    [2,6]\n",
    "])\n",
    "x[ironman]"
   ]
  },
  {
   "cell_type": "code",
   "execution_count": 7,
   "metadata": {},
   "outputs": [
    {
     "name": "stdout",
     "output_type": "stream",
     "text": [
      "y--------> [[96 94 31 39]\n",
      " [23  2 90 51]\n",
      " [57 81 60  4]]\n",
      "y[row,col]-----> [31  2  4]\n"
     ]
    }
   ],
   "source": [
    "y = np.random.randint(0,100,(3,4))\n",
    "print('y-------->',y)\n",
    "row = np.array([0,1,2])\n",
    "col = np.array([2,1,3])\n",
    "print('y[row,col]----->',y[row,col])"
   ]
  },
  {
   "cell_type": "code",
   "execution_count": 8,
   "metadata": {},
   "outputs": [
    {
     "name": "stdout",
     "output_type": "stream",
     "text": [
      "newRow-----> [[0]\n",
      " [1]\n",
      " [2]]\n",
      "y[newRow,col]-----> [[31 94 39]\n",
      " [90  2 51]\n",
      " [60 81  4]]\n"
     ]
    }
   ],
   "source": [
    "newRow = row[:, np.newaxis]\n",
    "print('newRow----->',newRow)\n",
    "print('y[newRow,col]----->',y[newRow,col])"
   ]
  },
  {
   "cell_type": "code",
   "execution_count": 9,
   "metadata": {},
   "outputs": [
    {
     "name": "stdout",
     "output_type": "stream",
     "text": [
      "team.dtype------------> [('name', '<U10'), ('number', '<i2'), ('team', '<U10')]\n",
      "team------------> [('彭政閔', 23, '兄弟象') ('林智勝', 32, '兄弟象') ('蘇偉達', 96, '兄弟象')\n",
      " ('陽耀勳', 23, 'lamigo')]\n"
     ]
    }
   ],
   "source": [
    "team =np.zeros(4, dtype={'names':('name','number','team'),'formats':('U10','i2','U10')})\n",
    "# 建立標題name 資料型別是unicode字串 長度10\n",
    "# 建立標題number 資料型別是有號整數 長度2\n",
    "# 建立標題team 資料型別是unicode字串 長度10\n",
    "print('team.dtype------------>',team.dtype)\n",
    "team['name'] =['彭政閔','林智勝','蘇偉達','陽耀勳']\n",
    "team['number'] = [23,32,96,23]\n",
    "team['team'] = ['兄弟象','兄弟象','兄弟象','lamigo']\n",
    "print('team------------>',team)"
   ]
  },
  {
   "cell_type": "code",
   "execution_count": 12,
   "metadata": {},
   "outputs": [
    {
     "name": "stdout",
     "output_type": "stream",
     "text": [
      "ironman.values-------> [0.11 0.22 0.33 0.44]\n",
      "ironman.index-------> RangeIndex(start=0, stop=4, step=1)\n"
     ]
    }
   ],
   "source": [
    "import numpy as np\n",
    "import pandas as pd\n",
    "ironman = pd.Series([0.11,0.22,0.33,0.44])\n",
    "ironman\n",
    "print('ironman.values------->',ironman.values)\n",
    "print('ironman.index------->',ironman.index)"
   ]
  },
  {
   "cell_type": "code",
   "execution_count": 13,
   "metadata": {},
   "outputs": [
    {
     "data": {
      "text/plain": [
       "a    0.11\n",
       "b    0.22\n",
       "c    0.33\n",
       "d    0.44\n",
       "dtype: float64"
      ]
     },
     "execution_count": 13,
     "metadata": {},
     "output_type": "execute_result"
    }
   ],
   "source": [
    "ironman = pd.Series([0.11,0.22,0.33,0.44], index=['a','b','c','d'])\n",
    "ironman"
   ]
  },
  {
   "cell_type": "code",
   "execution_count": 14,
   "metadata": {},
   "outputs": [
    {
     "data": {
      "text/plain": [
       "a    11\n",
       "b    22\n",
       "c    33\n",
       "dtype: int64"
      ]
     },
     "execution_count": 14,
     "metadata": {},
     "output_type": "execute_result"
    }
   ],
   "source": [
    "dic_ironman = {\n",
    "    'a': 11,\n",
    "    'b': 22,\n",
    "    'c': 33\n",
    "}\n",
    "ironman = pd.Series(dic_ironman)\n",
    "ironman"
   ]
  },
  {
   "cell_type": "code",
   "execution_count": 16,
   "metadata": {},
   "outputs": [
    {
     "data": {
      "text/html": [
       "<div>\n",
       "<style scoped>\n",
       "    .dataframe tbody tr th:only-of-type {\n",
       "        vertical-align: middle;\n",
       "    }\n",
       "\n",
       "    .dataframe tbody tr th {\n",
       "        vertical-align: top;\n",
       "    }\n",
       "\n",
       "    .dataframe thead th {\n",
       "        text-align: right;\n",
       "    }\n",
       "</style>\n",
       "<table border=\"1\" class=\"dataframe\">\n",
       "  <thead>\n",
       "    <tr style=\"text-align: right;\">\n",
       "      <th></th>\n",
       "      <th>number</th>\n",
       "      <th>mayor</th>\n",
       "    </tr>\n",
       "  </thead>\n",
       "  <tbody>\n",
       "    <tr>\n",
       "      <th>taipei</th>\n",
       "      <td>200</td>\n",
       "      <td>Kui</td>\n",
       "    </tr>\n",
       "    <tr>\n",
       "      <th>taichung</th>\n",
       "      <td>300</td>\n",
       "      <td>Ha</td>\n",
       "    </tr>\n",
       "    <tr>\n",
       "      <th>changhua</th>\n",
       "      <td>400</td>\n",
       "      <td>Chin</td>\n",
       "    </tr>\n",
       "    <tr>\n",
       "      <th>kaohsiung</th>\n",
       "      <td>150</td>\n",
       "      <td>Lui</td>\n",
       "    </tr>\n",
       "  </tbody>\n",
       "</table>\n",
       "</div>"
      ],
      "text/plain": [
       "           number mayor\n",
       "taipei        200   Kui\n",
       "taichung      300    Ha\n",
       "changhua      400  Chin\n",
       "kaohsiung     150   Lui"
      ]
     },
     "execution_count": 16,
     "metadata": {},
     "output_type": "execute_result"
    }
   ],
   "source": [
    "number = pd.Series({'taipei':200, 'taichung': 300, 'changhua': 400, 'kaohsiung' : 150})\n",
    "mayor = pd.Series({'taipei': 'Kui', 'taichung': 'Ha', 'changhua': 'Chin', 'kaohsiung' : 'Lui'})\n",
    "ironman_df = pd.DataFrame({'number':number, 'mayor':mayor})\n",
    "ironman_df\n"
   ]
  },
  {
   "cell_type": "code",
   "execution_count": 17,
   "metadata": {},
   "outputs": [
    {
     "name": "stdout",
     "output_type": "stream",
     "text": [
      "ironman_df.values-------> [[200 'Kui']\n",
      " [300 'Ha']\n",
      " [400 'Chin']\n",
      " [150 'Lui']]\n",
      "ironman_df.index-------> Index(['taipei', 'taichung', 'changhua', 'kaohsiung'], dtype='object')\n",
      "ironman_df.columns-------> Index(['number', 'mayor'], dtype='object')\n"
     ]
    }
   ],
   "source": [
    "print('ironman_df.values------->',ironman_df.values)\n",
    "print('ironman_df.index------->',ironman_df.index)\n",
    "print('ironman_df.columns------->',ironman_df.columns)"
   ]
  },
  {
   "cell_type": "code",
   "execution_count": 20,
   "metadata": {},
   "outputs": [
    {
     "data": {
      "text/html": [
       "<div>\n",
       "<style scoped>\n",
       "    .dataframe tbody tr th:only-of-type {\n",
       "        vertical-align: middle;\n",
       "    }\n",
       "\n",
       "    .dataframe tbody tr th {\n",
       "        vertical-align: top;\n",
       "    }\n",
       "\n",
       "    .dataframe thead th {\n",
       "        text-align: right;\n",
       "    }\n",
       "</style>\n",
       "<table border=\"1\" class=\"dataframe\">\n",
       "  <thead>\n",
       "    <tr style=\"text-align: right;\">\n",
       "      <th></th>\n",
       "      <th>number</th>\n",
       "    </tr>\n",
       "  </thead>\n",
       "  <tbody>\n",
       "    <tr>\n",
       "      <th>changhua</th>\n",
       "      <td>400</td>\n",
       "    </tr>\n",
       "    <tr>\n",
       "      <th>kaohsiung</th>\n",
       "      <td>150</td>\n",
       "    </tr>\n",
       "    <tr>\n",
       "      <th>taichung</th>\n",
       "      <td>300</td>\n",
       "    </tr>\n",
       "    <tr>\n",
       "      <th>taipei</th>\n",
       "      <td>200</td>\n",
       "    </tr>\n",
       "  </tbody>\n",
       "</table>\n",
       "</div>"
      ],
      "text/plain": [
       "           number\n",
       "changhua      400\n",
       "kaohsiung     150\n",
       "taichung      300\n",
       "taipei        200"
      ]
     },
     "execution_count": 20,
     "metadata": {},
     "output_type": "execute_result"
    }
   ],
   "source": [
    "pd.DataFrame(number, columns=['number']) #從單一Series\n",
    "pd.DataFrame({'number':{'taipei':200, 'taichung': 300, 'changhua': 400, 'kaohsiung' : 150}}) #從dict建立"
   ]
  },
  {
   "cell_type": "code",
   "execution_count": 21,
   "metadata": {},
   "outputs": [
    {
     "data": {
      "text/html": [
       "<div>\n",
       "<style scoped>\n",
       "    .dataframe tbody tr th:only-of-type {\n",
       "        vertical-align: middle;\n",
       "    }\n",
       "\n",
       "    .dataframe tbody tr th {\n",
       "        vertical-align: top;\n",
       "    }\n",
       "\n",
       "    .dataframe thead th {\n",
       "        text-align: right;\n",
       "    }\n",
       "</style>\n",
       "<table border=\"1\" class=\"dataframe\">\n",
       "  <thead>\n",
       "    <tr style=\"text-align: right;\">\n",
       "      <th></th>\n",
       "      <th>name</th>\n",
       "      <th>number</th>\n",
       "      <th>team</th>\n",
       "    </tr>\n",
       "  </thead>\n",
       "  <tbody>\n",
       "    <tr>\n",
       "      <th>0</th>\n",
       "      <td>彭政閔</td>\n",
       "      <td>23</td>\n",
       "      <td>兄弟象</td>\n",
       "    </tr>\n",
       "    <tr>\n",
       "      <th>1</th>\n",
       "      <td>林智勝</td>\n",
       "      <td>32</td>\n",
       "      <td>兄弟象</td>\n",
       "    </tr>\n",
       "    <tr>\n",
       "      <th>2</th>\n",
       "      <td>蘇偉達</td>\n",
       "      <td>96</td>\n",
       "      <td>兄弟象</td>\n",
       "    </tr>\n",
       "    <tr>\n",
       "      <th>3</th>\n",
       "      <td>陽耀勳</td>\n",
       "      <td>23</td>\n",
       "      <td>lamigo</td>\n",
       "    </tr>\n",
       "  </tbody>\n",
       "</table>\n",
       "</div>"
      ],
      "text/plain": [
       "  name  number    team\n",
       "0  彭政閔      23     兄弟象\n",
       "1  林智勝      32     兄弟象\n",
       "2  蘇偉達      96     兄弟象\n",
       "3  陽耀勳      23  lamigo"
      ]
     },
     "execution_count": 21,
     "metadata": {},
     "output_type": "execute_result"
    }
   ],
   "source": [
    "pd.DataFrame(team)"
   ]
  },
  {
   "cell_type": "code",
   "execution_count": 22,
   "metadata": {},
   "outputs": [
    {
     "ename": "NameError",
     "evalue": "name 'array' is not defined",
     "output_type": "error",
     "traceback": [
      "\u001b[1;31m---------------------------------------------------------------------------\u001b[0m",
      "\u001b[1;31mNameError\u001b[0m                                 Traceback (most recent call last)",
      "\u001b[1;32m<ipython-input-22-6fe0cddf1902>\u001b[0m in \u001b[0;36m<module>\u001b[1;34m\u001b[0m\n\u001b[1;32m----> 1\u001b[1;33m \u001b[0marray\u001b[0m\u001b[1;33m(\u001b[0m\u001b[1;33m[\u001b[0m\u001b[1;36m1\u001b[0m\u001b[1;33m,\u001b[0m \u001b[1;32mNone\u001b[0m\u001b[1;33m,\u001b[0m \u001b[1;36m3\u001b[0m\u001b[1;33m,\u001b[0m \u001b[1;36m4\u001b[0m\u001b[1;33m]\u001b[0m\u001b[1;33m,\u001b[0m \u001b[0mdtype\u001b[0m\u001b[1;33m=\u001b[0m\u001b[0mobject\u001b[0m\u001b[1;33m)\u001b[0m\u001b[1;33m\u001b[0m\u001b[1;33m\u001b[0m\u001b[0m\n\u001b[0m",
      "\u001b[1;31mNameError\u001b[0m: name 'array' is not defined"
     ]
    }
   ],
   "source": [
    "array([1, None, 3, 4], dtype=object)\n"
   ]
  },
  {
   "cell_type": "code",
   "execution_count": 23,
   "metadata": {},
   "outputs": [
    {
     "data": {
      "text/plain": [
       "array([1, None, 3, 4], dtype=object)"
      ]
     },
     "execution_count": 23,
     "metadata": {},
     "output_type": "execute_result"
    }
   ],
   "source": [
    "import numpy as np\n",
    "import pandas as pd\n",
    "ironman = np.array([1,None,3,4])\n",
    "ironman"
   ]
  },
  {
   "cell_type": "code",
   "execution_count": 24,
   "metadata": {},
   "outputs": [
    {
     "data": {
      "text/plain": [
       "dtype('float64')"
      ]
     },
     "execution_count": 24,
     "metadata": {},
     "output_type": "execute_result"
    }
   ],
   "source": [
    "ironman = np.array([1,np.nan,3,4])\n",
    "ironman.dtype"
   ]
  },
  {
   "cell_type": "code",
   "execution_count": 26,
   "metadata": {},
   "outputs": [
    {
     "data": {
      "text/plain": [
       "(8.0, 1.0, 4.0)"
      ]
     },
     "execution_count": 26,
     "metadata": {},
     "output_type": "execute_result"
    }
   ],
   "source": [
    "np.nansum(ironman),np.nanmin(ironman),np.nanmax(ironman)\n"
   ]
  },
  {
   "cell_type": "code",
   "execution_count": 27,
   "metadata": {},
   "outputs": [
    {
     "data": {
      "text/plain": [
       "MultiIndex(levels=[['Changhua', 'Kaohsiung', 'Taichung', 'Taipei'], [2017, 2018]],\n",
       "           labels=[[2, 2, 0, 0, 3, 3, 1, 1], [1, 0, 1, 0, 1, 0, 1, 0]])"
      ]
     },
     "execution_count": 27,
     "metadata": {},
     "output_type": "execute_result"
    }
   ],
   "source": [
    "index = [('Taichung',2018),('Taichung',2017),\n",
    "         ('Changhua',2018),('Changhua',2017),\n",
    "         ('Taipei',2018),('Taipei',2017),\n",
    "         ('Kaohsiung',2018),('Kaohsiung',2017)]\n",
    "index = pd.MultiIndex.from_tuples(index)\n",
    "index"
   ]
  },
  {
   "cell_type": "code",
   "execution_count": 28,
   "metadata": {},
   "outputs": [
    {
     "data": {
      "text/plain": [
       "Taichung   2018     800\n",
       "           2017     780\n",
       "Changhua   2018     620\n",
       "           2017     580\n",
       "Taipei     2018    1500\n",
       "           2017    1350\n",
       "Kaohsiung  2018    1100\n",
       "           2017     998\n",
       "dtype: int64"
      ]
     },
     "execution_count": 28,
     "metadata": {},
     "output_type": "execute_result"
    }
   ],
   "source": [
    "elementary = [\n",
    "    800,780,\n",
    "    620,580,\n",
    "    1500,1350,\n",
    "    1100,998\n",
    "]\n",
    "ironman = pd.Series(elementary, index=index)\n",
    "ironman"
   ]
  },
  {
   "cell_type": "code",
   "execution_count": 29,
   "metadata": {},
   "outputs": [
    {
     "data": {
      "text/plain": [
       "0    A\n",
       "1    B\n",
       "2    C\n",
       "2    D\n",
       "3    E\n",
       "4    F\n",
       "dtype: object"
      ]
     },
     "execution_count": 29,
     "metadata": {},
     "output_type": "execute_result"
    }
   ],
   "source": [
    "ironman1 = pd.Series(['A','B','C'], index=[0,1,2])\n",
    "ironman2 = pd.Series(['D','E','F'], index=[2,3,4])\n",
    "pd.concat([ironman1,ironman2])"
   ]
  },
  {
   "cell_type": "code",
   "execution_count": 34,
   "metadata": {},
   "outputs": [
    {
     "name": "stdout",
     "output_type": "stream",
     "text": [
      "    A   B\n",
      "1  A1  B1\n",
      "2  A2  B2\n"
     ]
    },
    {
     "data": {
      "text/html": [
       "<div>\n",
       "<style scoped>\n",
       "    .dataframe tbody tr th:only-of-type {\n",
       "        vertical-align: middle;\n",
       "    }\n",
       "\n",
       "    .dataframe tbody tr th {\n",
       "        vertical-align: top;\n",
       "    }\n",
       "\n",
       "    .dataframe thead th {\n",
       "        text-align: right;\n",
       "    }\n",
       "</style>\n",
       "<table border=\"1\" class=\"dataframe\">\n",
       "  <thead>\n",
       "    <tr style=\"text-align: right;\">\n",
       "      <th></th>\n",
       "      <th>A</th>\n",
       "      <th>B</th>\n",
       "    </tr>\n",
       "  </thead>\n",
       "  <tbody>\n",
       "    <tr>\n",
       "      <th>1</th>\n",
       "      <td>A1</td>\n",
       "      <td>B1</td>\n",
       "    </tr>\n",
       "    <tr>\n",
       "      <th>2</th>\n",
       "      <td>A2</td>\n",
       "      <td>B2</td>\n",
       "    </tr>\n",
       "    <tr>\n",
       "      <th>3</th>\n",
       "      <td>A3</td>\n",
       "      <td>B3</td>\n",
       "    </tr>\n",
       "    <tr>\n",
       "      <th>4</th>\n",
       "      <td>A4</td>\n",
       "      <td>B4</td>\n",
       "    </tr>\n",
       "  </tbody>\n",
       "</table>\n",
       "</div>"
      ],
      "text/plain": [
       "    A   B\n",
       "1  A1  B1\n",
       "2  A2  B2\n",
       "3  A3  B3\n",
       "4  A4  B4"
      ]
     },
     "execution_count": 34,
     "metadata": {},
     "output_type": "execute_result"
    }
   ],
   "source": [
    "# 先定義一個function\n",
    "def make_dataFrame(cols, ind):\n",
    "    data = {c:[str(c) + str(i) for i in ind]\n",
    "                               for c in cols}\n",
    "    return pd.DataFrame(data, ind)\n",
    "ironman3 = make_dataFrame('AB',[1,2])\n",
    "print(ironman3)\n",
    "ironman4 = make_dataFrame('AB',[3,4])\n",
    "pd.concat([ironman3,ironman4])"
   ]
  },
  {
   "cell_type": "code",
   "execution_count": 36,
   "metadata": {},
   "outputs": [
    {
     "name": "stdout",
     "output_type": "stream",
     "text": [
      "{'a': ['a1', 'a5'], 'b': ['b1', 'b5'], 'c': ['c1', 'c5']}\n"
     ]
    },
    {
     "data": {
      "text/html": [
       "<div>\n",
       "<style scoped>\n",
       "    .dataframe tbody tr th:only-of-type {\n",
       "        vertical-align: middle;\n",
       "    }\n",
       "\n",
       "    .dataframe tbody tr th {\n",
       "        vertical-align: top;\n",
       "    }\n",
       "\n",
       "    .dataframe thead th {\n",
       "        text-align: right;\n",
       "    }\n",
       "</style>\n",
       "<table border=\"1\" class=\"dataframe\">\n",
       "  <thead>\n",
       "    <tr style=\"text-align: right;\">\n",
       "      <th></th>\n",
       "      <th>a</th>\n",
       "      <th>b</th>\n",
       "      <th>c</th>\n",
       "    </tr>\n",
       "  </thead>\n",
       "  <tbody>\n",
       "    <tr>\n",
       "      <th>1</th>\n",
       "      <td>a1</td>\n",
       "      <td>b1</td>\n",
       "      <td>c1</td>\n",
       "    </tr>\n",
       "    <tr>\n",
       "      <th>5</th>\n",
       "      <td>a5</td>\n",
       "      <td>b5</td>\n",
       "      <td>c5</td>\n",
       "    </tr>\n",
       "  </tbody>\n",
       "</table>\n",
       "</div>"
      ],
      "text/plain": [
       "    a   b   c\n",
       "1  a1  b1  c1\n",
       "5  a5  b5  c5"
      ]
     },
     "execution_count": 36,
     "metadata": {},
     "output_type": "execute_result"
    }
   ],
   "source": [
    "def aa(cols, ind):\n",
    "    data = {c:[str(c) + str(i) for i in ind]\n",
    "                               for c in cols}\n",
    "    print(data)\n",
    "    return pd.DataFrame(data, ind)\n",
    "b=aa('abc',[1,5])\n",
    "b"
   ]
  },
  {
   "cell_type": "code",
   "execution_count": 37,
   "metadata": {},
   "outputs": [
    {
     "data": {
      "text/html": [
       "<div>\n",
       "<style scoped>\n",
       "    .dataframe tbody tr th:only-of-type {\n",
       "        vertical-align: middle;\n",
       "    }\n",
       "\n",
       "    .dataframe tbody tr th {\n",
       "        vertical-align: top;\n",
       "    }\n",
       "\n",
       "    .dataframe thead th {\n",
       "        text-align: right;\n",
       "    }\n",
       "</style>\n",
       "<table border=\"1\" class=\"dataframe\">\n",
       "  <thead>\n",
       "    <tr style=\"text-align: right;\">\n",
       "      <th></th>\n",
       "      <th>player</th>\n",
       "      <th>number</th>\n",
       "      <th>team</th>\n",
       "    </tr>\n",
       "  </thead>\n",
       "  <tbody>\n",
       "    <tr>\n",
       "      <th>0</th>\n",
       "      <td>彭政閔</td>\n",
       "      <td>23</td>\n",
       "      <td>兄弟象</td>\n",
       "    </tr>\n",
       "    <tr>\n",
       "      <th>1</th>\n",
       "      <td>林智勝</td>\n",
       "      <td>32</td>\n",
       "      <td>兄弟象</td>\n",
       "    </tr>\n",
       "    <tr>\n",
       "      <th>2</th>\n",
       "      <td>郭阜林</td>\n",
       "      <td>5</td>\n",
       "      <td>統一獅</td>\n",
       "    </tr>\n",
       "    <tr>\n",
       "      <th>3</th>\n",
       "      <td>詹子賢</td>\n",
       "      <td>39</td>\n",
       "      <td>兄弟象</td>\n",
       "    </tr>\n",
       "  </tbody>\n",
       "</table>\n",
       "</div>"
      ],
      "text/plain": [
       "  player  number team\n",
       "0    彭政閔      23  兄弟象\n",
       "1    林智勝      32  兄弟象\n",
       "2    郭阜林       5  統一獅\n",
       "3    詹子賢      39  兄弟象"
      ]
     },
     "execution_count": 37,
     "metadata": {},
     "output_type": "execute_result"
    }
   ],
   "source": [
    "ironman6 = pd.DataFrame({'player':['彭政閔','林智勝','郭阜林','詹子賢'],\n",
    "                        'number':[23,32,5,39]})\n",
    "ironman7 = pd.DataFrame({'player':['彭政閔','郭阜林','林智勝','詹子賢'],\n",
    "                        'team':['兄弟象','統一獅','兄弟象','兄弟象']})\n",
    "ironman8 = pd.merge(ironman6, ironman7)\n",
    "ironman8"
   ]
  },
  {
   "cell_type": "code",
   "execution_count": 38,
   "metadata": {},
   "outputs": [
    {
     "data": {
      "text/html": [
       "<div>\n",
       "<style scoped>\n",
       "    .dataframe tbody tr th:only-of-type {\n",
       "        vertical-align: middle;\n",
       "    }\n",
       "\n",
       "    .dataframe tbody tr th {\n",
       "        vertical-align: top;\n",
       "    }\n",
       "\n",
       "    .dataframe thead th {\n",
       "        text-align: right;\n",
       "    }\n",
       "</style>\n",
       "<table border=\"1\" class=\"dataframe\">\n",
       "  <thead>\n",
       "    <tr style=\"text-align: right;\">\n",
       "      <th></th>\n",
       "      <th>player</th>\n",
       "      <th>number</th>\n",
       "      <th>team</th>\n",
       "      <th>manager</th>\n",
       "    </tr>\n",
       "  </thead>\n",
       "  <tbody>\n",
       "    <tr>\n",
       "      <th>0</th>\n",
       "      <td>彭政閔</td>\n",
       "      <td>23</td>\n",
       "      <td>兄弟象</td>\n",
       "      <td>Snyder</td>\n",
       "    </tr>\n",
       "    <tr>\n",
       "      <th>1</th>\n",
       "      <td>林智勝</td>\n",
       "      <td>32</td>\n",
       "      <td>兄弟象</td>\n",
       "      <td>Snyder</td>\n",
       "    </tr>\n",
       "    <tr>\n",
       "      <th>2</th>\n",
       "      <td>詹子賢</td>\n",
       "      <td>39</td>\n",
       "      <td>兄弟象</td>\n",
       "      <td>Snyder</td>\n",
       "    </tr>\n",
       "    <tr>\n",
       "      <th>3</th>\n",
       "      <td>郭阜林</td>\n",
       "      <td>5</td>\n",
       "      <td>統一獅</td>\n",
       "      <td>黃甘霖</td>\n",
       "    </tr>\n",
       "  </tbody>\n",
       "</table>\n",
       "</div>"
      ],
      "text/plain": [
       "  player  number team manager\n",
       "0    彭政閔      23  兄弟象  Snyder\n",
       "1    林智勝      32  兄弟象  Snyder\n",
       "2    詹子賢      39  兄弟象  Snyder\n",
       "3    郭阜林       5  統一獅     黃甘霖"
      ]
     },
     "execution_count": 38,
     "metadata": {},
     "output_type": "execute_result"
    }
   ],
   "source": [
    "ironman9 = pd.DataFrame({'team':['兄弟象','統一獅','lamigo','富邦悍將'],\n",
    "                        'manager':['Snyder','黃甘霖','洪一中','陳連宏']})\n",
    "ironman10 = pd.merge(ironman8, ironman9)\n",
    "ironman10"
   ]
  },
  {
   "cell_type": "code",
   "execution_count": 39,
   "metadata": {},
   "outputs": [
    {
     "data": {
      "text/html": [
       "<div>\n",
       "<style scoped>\n",
       "    .dataframe tbody tr th:only-of-type {\n",
       "        vertical-align: middle;\n",
       "    }\n",
       "\n",
       "    .dataframe tbody tr th {\n",
       "        vertical-align: top;\n",
       "    }\n",
       "\n",
       "    .dataframe thead th {\n",
       "        text-align: right;\n",
       "    }\n",
       "</style>\n",
       "<table border=\"1\" class=\"dataframe\">\n",
       "  <thead>\n",
       "    <tr style=\"text-align: right;\">\n",
       "      <th></th>\n",
       "      <th>player</th>\n",
       "      <th>number</th>\n",
       "      <th>team</th>\n",
       "      <th>manager</th>\n",
       "    </tr>\n",
       "  </thead>\n",
       "  <tbody>\n",
       "    <tr>\n",
       "      <th>0</th>\n",
       "      <td>彭政閔</td>\n",
       "      <td>23</td>\n",
       "      <td>兄弟象</td>\n",
       "      <td>Snyder</td>\n",
       "    </tr>\n",
       "    <tr>\n",
       "      <th>1</th>\n",
       "      <td>林智勝</td>\n",
       "      <td>32</td>\n",
       "      <td>兄弟象</td>\n",
       "      <td>Snyder</td>\n",
       "    </tr>\n",
       "    <tr>\n",
       "      <th>2</th>\n",
       "      <td>詹子賢</td>\n",
       "      <td>39</td>\n",
       "      <td>兄弟象</td>\n",
       "      <td>Snyder</td>\n",
       "    </tr>\n",
       "    <tr>\n",
       "      <th>3</th>\n",
       "      <td>郭阜林</td>\n",
       "      <td>5</td>\n",
       "      <td>統一獅</td>\n",
       "      <td>黃甘霖</td>\n",
       "    </tr>\n",
       "  </tbody>\n",
       "</table>\n",
       "</div>"
      ],
      "text/plain": [
       "  player  number team manager\n",
       "0    彭政閔      23  兄弟象  Snyder\n",
       "1    林智勝      32  兄弟象  Snyder\n",
       "2    詹子賢      39  兄弟象  Snyder\n",
       "3    郭阜林       5  統一獅     黃甘霖"
      ]
     },
     "execution_count": 39,
     "metadata": {},
     "output_type": "execute_result"
    }
   ],
   "source": [
    "ironman9 = pd.DataFrame({'team':['兄弟象','統一獅','lamigo','富邦悍將'],\n",
    "                        'manager':['Snyder','黃甘霖','洪一中','陳連宏']})\n",
    "ironman10 = pd.merge(ironman8, ironman9)\n",
    "ironman10"
   ]
  },
  {
   "cell_type": "code",
   "execution_count": 40,
   "metadata": {},
   "outputs": [
    {
     "data": {
      "text/html": [
       "<div>\n",
       "<style scoped>\n",
       "    .dataframe tbody tr th:only-of-type {\n",
       "        vertical-align: middle;\n",
       "    }\n",
       "\n",
       "    .dataframe tbody tr th {\n",
       "        vertical-align: top;\n",
       "    }\n",
       "\n",
       "    .dataframe thead th {\n",
       "        text-align: right;\n",
       "    }\n",
       "</style>\n",
       "<table border=\"1\" class=\"dataframe\">\n",
       "  <thead>\n",
       "    <tr style=\"text-align: right;\">\n",
       "      <th></th>\n",
       "      <th>player</th>\n",
       "      <th>number</th>\n",
       "      <th>team</th>\n",
       "    </tr>\n",
       "  </thead>\n",
       "  <tbody>\n",
       "    <tr>\n",
       "      <th>0</th>\n",
       "      <td>彭政閔</td>\n",
       "      <td>23.0</td>\n",
       "      <td>兄弟象</td>\n",
       "    </tr>\n",
       "    <tr>\n",
       "      <th>1</th>\n",
       "      <td>林智勝</td>\n",
       "      <td>32.0</td>\n",
       "      <td>兄弟象</td>\n",
       "    </tr>\n",
       "    <tr>\n",
       "      <th>2</th>\n",
       "      <td>郭阜林</td>\n",
       "      <td>5.0</td>\n",
       "      <td>NaN</td>\n",
       "    </tr>\n",
       "    <tr>\n",
       "      <th>3</th>\n",
       "      <td>詹子賢</td>\n",
       "      <td>39.0</td>\n",
       "      <td>NaN</td>\n",
       "    </tr>\n",
       "    <tr>\n",
       "      <th>4</th>\n",
       "      <td>張志豪</td>\n",
       "      <td>NaN</td>\n",
       "      <td>兄弟象</td>\n",
       "    </tr>\n",
       "    <tr>\n",
       "      <th>5</th>\n",
       "      <td>藍寅倫</td>\n",
       "      <td>NaN</td>\n",
       "      <td>lamigo</td>\n",
       "    </tr>\n",
       "  </tbody>\n",
       "</table>\n",
       "</div>"
      ],
      "text/plain": [
       "  player  number    team\n",
       "0    彭政閔    23.0     兄弟象\n",
       "1    林智勝    32.0     兄弟象\n",
       "2    郭阜林     5.0     NaN\n",
       "3    詹子賢    39.0     NaN\n",
       "4    張志豪     NaN     兄弟象\n",
       "5    藍寅倫     NaN  lamigo"
      ]
     },
     "execution_count": 40,
     "metadata": {},
     "output_type": "execute_result"
    }
   ],
   "source": [
    "ironman6 = pd.DataFrame({'player':['彭政閔','林智勝','郭阜林','詹子賢'],\n",
    "                        'number':[23,32,5,39]})\n",
    "ironman14 = pd.DataFrame({'player':['彭政閔','林智勝','張志豪',\"藍寅倫\"],\n",
    "                        'team':['兄弟象','兄弟象','兄弟象','lamigo']})\n",
    "pd.merge(ironman6, ironman14, how=\"outer\")"
   ]
  },
  {
   "cell_type": "code",
   "execution_count": 41,
   "metadata": {},
   "outputs": [
    {
     "name": "stdout",
     "output_type": "stream",
     "text": [
      "  team  number\n",
      "0    A       2\n",
      "1    B       5\n",
      "2    C       3\n",
      "3    C       5\n",
      "4    B       8\n",
      "5    B       6\n"
     ]
    },
    {
     "data": {
      "text/html": [
       "<div>\n",
       "<style scoped>\n",
       "    .dataframe tbody tr th:only-of-type {\n",
       "        vertical-align: middle;\n",
       "    }\n",
       "\n",
       "    .dataframe tbody tr th {\n",
       "        vertical-align: top;\n",
       "    }\n",
       "\n",
       "    .dataframe thead th {\n",
       "        text-align: right;\n",
       "    }\n",
       "</style>\n",
       "<table border=\"1\" class=\"dataframe\">\n",
       "  <thead>\n",
       "    <tr style=\"text-align: right;\">\n",
       "      <th></th>\n",
       "      <th>number</th>\n",
       "    </tr>\n",
       "    <tr>\n",
       "      <th>team</th>\n",
       "      <th></th>\n",
       "    </tr>\n",
       "  </thead>\n",
       "  <tbody>\n",
       "    <tr>\n",
       "      <th>A</th>\n",
       "      <td>2</td>\n",
       "    </tr>\n",
       "    <tr>\n",
       "      <th>B</th>\n",
       "      <td>19</td>\n",
       "    </tr>\n",
       "    <tr>\n",
       "      <th>C</th>\n",
       "      <td>8</td>\n",
       "    </tr>\n",
       "  </tbody>\n",
       "</table>\n",
       "</div>"
      ],
      "text/plain": [
       "      number\n",
       "team        \n",
       "A          2\n",
       "B         19\n",
       "C          8"
      ]
     },
     "execution_count": 41,
     "metadata": {},
     "output_type": "execute_result"
    }
   ],
   "source": [
    "ironman_df = pd.DataFrame({'team':['A','B','C','C','B','B'],'number':np.random.randint(10, size=6)}, columns=['team','number'])\n",
    "print(ironman_df)\n",
    "ironman_df.groupby('team').sum() #"
   ]
  },
  {
   "cell_type": "code",
   "execution_count": 42,
   "metadata": {},
   "outputs": [
    {
     "data": {
      "text/html": [
       "<div>\n",
       "<style scoped>\n",
       "    .dataframe tbody tr th:only-of-type {\n",
       "        vertical-align: middle;\n",
       "    }\n",
       "\n",
       "    .dataframe tbody tr th {\n",
       "        vertical-align: top;\n",
       "    }\n",
       "\n",
       "    .dataframe thead tr th {\n",
       "        text-align: left;\n",
       "    }\n",
       "\n",
       "    .dataframe thead tr:last-of-type th {\n",
       "        text-align: right;\n",
       "    }\n",
       "</style>\n",
       "<table border=\"1\" class=\"dataframe\">\n",
       "  <thead>\n",
       "    <tr>\n",
       "      <th></th>\n",
       "      <th colspan=\"3\" halign=\"left\">number</th>\n",
       "    </tr>\n",
       "    <tr>\n",
       "      <th></th>\n",
       "      <th>sum</th>\n",
       "      <th>max</th>\n",
       "      <th>min</th>\n",
       "    </tr>\n",
       "    <tr>\n",
       "      <th>team</th>\n",
       "      <th></th>\n",
       "      <th></th>\n",
       "      <th></th>\n",
       "    </tr>\n",
       "  </thead>\n",
       "  <tbody>\n",
       "    <tr>\n",
       "      <th>A</th>\n",
       "      <td>2</td>\n",
       "      <td>2</td>\n",
       "      <td>2</td>\n",
       "    </tr>\n",
       "    <tr>\n",
       "      <th>B</th>\n",
       "      <td>19</td>\n",
       "      <td>8</td>\n",
       "      <td>5</td>\n",
       "    </tr>\n",
       "    <tr>\n",
       "      <th>C</th>\n",
       "      <td>8</td>\n",
       "      <td>5</td>\n",
       "      <td>3</td>\n",
       "    </tr>\n",
       "  </tbody>\n",
       "</table>\n",
       "</div>"
      ],
      "text/plain": [
       "     number        \n",
       "        sum max min\n",
       "team               \n",
       "A         2   2   2\n",
       "B        19   8   5\n",
       "C         8   5   3"
      ]
     },
     "execution_count": 42,
     "metadata": {},
     "output_type": "execute_result"
    }
   ],
   "source": [
    "ironman_df.groupby('team').aggregate(['sum','max','min'])\n"
   ]
  },
  {
   "cell_type": "code",
   "execution_count": 43,
   "metadata": {},
   "outputs": [
    {
     "data": {
      "text/html": [
       "<div>\n",
       "<style scoped>\n",
       "    .dataframe tbody tr th:only-of-type {\n",
       "        vertical-align: middle;\n",
       "    }\n",
       "\n",
       "    .dataframe tbody tr th {\n",
       "        vertical-align: top;\n",
       "    }\n",
       "\n",
       "    .dataframe thead th {\n",
       "        text-align: right;\n",
       "    }\n",
       "</style>\n",
       "<table border=\"1\" class=\"dataframe\">\n",
       "  <thead>\n",
       "    <tr style=\"text-align: right;\">\n",
       "      <th></th>\n",
       "      <th>team</th>\n",
       "      <th>number</th>\n",
       "    </tr>\n",
       "  </thead>\n",
       "  <tbody>\n",
       "    <tr>\n",
       "      <th>1</th>\n",
       "      <td>B</td>\n",
       "      <td>5</td>\n",
       "    </tr>\n",
       "    <tr>\n",
       "      <th>4</th>\n",
       "      <td>B</td>\n",
       "      <td>8</td>\n",
       "    </tr>\n",
       "    <tr>\n",
       "      <th>5</th>\n",
       "      <td>B</td>\n",
       "      <td>6</td>\n",
       "    </tr>\n",
       "  </tbody>\n",
       "</table>\n",
       "</div>"
      ],
      "text/plain": [
       "  team  number\n",
       "1    B       5\n",
       "4    B       8\n",
       "5    B       6"
      ]
     },
     "execution_count": 43,
     "metadata": {},
     "output_type": "execute_result"
    }
   ],
   "source": [
    "def filter_func(x):\n",
    "    return x['number'].sum() > 10\n",
    "ironman_df.groupby('team').filter(filter_func)"
   ]
  },
  {
   "cell_type": "code",
   "execution_count": 44,
   "metadata": {},
   "outputs": [
    {
     "data": {
      "text/html": [
       "<div>\n",
       "<style scoped>\n",
       "    .dataframe tbody tr th:only-of-type {\n",
       "        vertical-align: middle;\n",
       "    }\n",
       "\n",
       "    .dataframe tbody tr th {\n",
       "        vertical-align: top;\n",
       "    }\n",
       "\n",
       "    .dataframe thead th {\n",
       "        text-align: right;\n",
       "    }\n",
       "</style>\n",
       "<table border=\"1\" class=\"dataframe\">\n",
       "  <thead>\n",
       "    <tr style=\"text-align: right;\">\n",
       "      <th></th>\n",
       "      <th>number</th>\n",
       "    </tr>\n",
       "  </thead>\n",
       "  <tbody>\n",
       "    <tr>\n",
       "      <th>0</th>\n",
       "      <td>0</td>\n",
       "    </tr>\n",
       "    <tr>\n",
       "      <th>1</th>\n",
       "      <td>-14</td>\n",
       "    </tr>\n",
       "    <tr>\n",
       "      <th>2</th>\n",
       "      <td>-5</td>\n",
       "    </tr>\n",
       "    <tr>\n",
       "      <th>3</th>\n",
       "      <td>-3</td>\n",
       "    </tr>\n",
       "    <tr>\n",
       "      <th>4</th>\n",
       "      <td>-11</td>\n",
       "    </tr>\n",
       "    <tr>\n",
       "      <th>5</th>\n",
       "      <td>-13</td>\n",
       "    </tr>\n",
       "  </tbody>\n",
       "</table>\n",
       "</div>"
      ],
      "text/plain": [
       "   number\n",
       "0       0\n",
       "1     -14\n",
       "2      -5\n",
       "3      -3\n",
       "4     -11\n",
       "5     -13"
      ]
     },
     "execution_count": 44,
     "metadata": {},
     "output_type": "execute_result"
    }
   ],
   "source": [
    "ironman_df.groupby('team').transform(lambda x: x- x.sum())\n"
   ]
  },
  {
   "cell_type": "code",
   "execution_count": 45,
   "metadata": {},
   "outputs": [
    {
     "data": {
      "text/html": [
       "<div>\n",
       "<style scoped>\n",
       "    .dataframe tbody tr th:only-of-type {\n",
       "        vertical-align: middle;\n",
       "    }\n",
       "\n",
       "    .dataframe tbody tr th {\n",
       "        vertical-align: top;\n",
       "    }\n",
       "\n",
       "    .dataframe thead th {\n",
       "        text-align: right;\n",
       "    }\n",
       "</style>\n",
       "<table border=\"1\" class=\"dataframe\">\n",
       "  <thead>\n",
       "    <tr style=\"text-align: right;\">\n",
       "      <th></th>\n",
       "      <th>team</th>\n",
       "      <th>number</th>\n",
       "    </tr>\n",
       "  </thead>\n",
       "  <tbody>\n",
       "    <tr>\n",
       "      <th>1</th>\n",
       "      <td>B</td>\n",
       "      <td>5</td>\n",
       "    </tr>\n",
       "    <tr>\n",
       "      <th>4</th>\n",
       "      <td>B</td>\n",
       "      <td>8</td>\n",
       "    </tr>\n",
       "    <tr>\n",
       "      <th>5</th>\n",
       "      <td>B</td>\n",
       "      <td>6</td>\n",
       "    </tr>\n",
       "  </tbody>\n",
       "</table>\n",
       "</div>"
      ],
      "text/plain": [
       "  team  number\n",
       "1    B       5\n",
       "4    B       8\n",
       "5    B       6"
      ]
     },
     "execution_count": 45,
     "metadata": {},
     "output_type": "execute_result"
    }
   ],
   "source": [
    "def filter_func(x):\n",
    "    return x['number'].sum() > 10\n",
    "ironman_df.groupby('team').filter(filter_func)"
   ]
  },
  {
   "cell_type": "code",
   "execution_count": 46,
   "metadata": {},
   "outputs": [
    {
     "data": {
      "text/html": [
       "<div>\n",
       "<style scoped>\n",
       "    .dataframe tbody tr th:only-of-type {\n",
       "        vertical-align: middle;\n",
       "    }\n",
       "\n",
       "    .dataframe tbody tr th {\n",
       "        vertical-align: top;\n",
       "    }\n",
       "\n",
       "    .dataframe thead th {\n",
       "        text-align: right;\n",
       "    }\n",
       "</style>\n",
       "<table border=\"1\" class=\"dataframe\">\n",
       "  <thead>\n",
       "    <tr style=\"text-align: right;\">\n",
       "      <th></th>\n",
       "      <th>team</th>\n",
       "      <th>number</th>\n",
       "    </tr>\n",
       "  </thead>\n",
       "  <tbody>\n",
       "    <tr>\n",
       "      <th>1</th>\n",
       "      <td>B</td>\n",
       "      <td>5</td>\n",
       "    </tr>\n",
       "    <tr>\n",
       "      <th>4</th>\n",
       "      <td>B</td>\n",
       "      <td>8</td>\n",
       "    </tr>\n",
       "    <tr>\n",
       "      <th>5</th>\n",
       "      <td>B</td>\n",
       "      <td>6</td>\n",
       "    </tr>\n",
       "  </tbody>\n",
       "</table>\n",
       "</div>"
      ],
      "text/plain": [
       "  team  number\n",
       "1    B       5\n",
       "4    B       8\n",
       "5    B       6"
      ]
     },
     "execution_count": 46,
     "metadata": {},
     "output_type": "execute_result"
    }
   ],
   "source": [
    "ironman_df.groupby('team').filter(lambda x :x['number'].sum()>10)"
   ]
  },
  {
   "cell_type": "code",
   "execution_count": 47,
   "metadata": {},
   "outputs": [
    {
     "data": {
      "text/html": [
       "<div>\n",
       "<style scoped>\n",
       "    .dataframe tbody tr th:only-of-type {\n",
       "        vertical-align: middle;\n",
       "    }\n",
       "\n",
       "    .dataframe tbody tr th {\n",
       "        vertical-align: top;\n",
       "    }\n",
       "\n",
       "    .dataframe thead th {\n",
       "        text-align: right;\n",
       "    }\n",
       "</style>\n",
       "<table border=\"1\" class=\"dataframe\">\n",
       "  <thead>\n",
       "    <tr style=\"text-align: right;\">\n",
       "      <th></th>\n",
       "      <th>team</th>\n",
       "      <th>number</th>\n",
       "    </tr>\n",
       "  </thead>\n",
       "  <tbody>\n",
       "    <tr>\n",
       "      <th>0</th>\n",
       "      <td>A</td>\n",
       "      <td>0</td>\n",
       "    </tr>\n",
       "    <tr>\n",
       "      <th>1</th>\n",
       "      <td>B</td>\n",
       "      <td>-14</td>\n",
       "    </tr>\n",
       "    <tr>\n",
       "      <th>2</th>\n",
       "      <td>C</td>\n",
       "      <td>-5</td>\n",
       "    </tr>\n",
       "    <tr>\n",
       "      <th>3</th>\n",
       "      <td>C</td>\n",
       "      <td>-3</td>\n",
       "    </tr>\n",
       "    <tr>\n",
       "      <th>4</th>\n",
       "      <td>B</td>\n",
       "      <td>-11</td>\n",
       "    </tr>\n",
       "    <tr>\n",
       "      <th>5</th>\n",
       "      <td>B</td>\n",
       "      <td>-13</td>\n",
       "    </tr>\n",
       "  </tbody>\n",
       "</table>\n",
       "</div>"
      ],
      "text/plain": [
       "  team  number\n",
       "0    A       0\n",
       "1    B     -14\n",
       "2    C      -5\n",
       "3    C      -3\n",
       "4    B     -11\n",
       "5    B     -13"
      ]
     },
     "execution_count": 47,
     "metadata": {},
     "output_type": "execute_result"
    }
   ],
   "source": [
    "def apply_func(x):\n",
    "    x['number'] = x['number'] - x['number'].sum()\n",
    "    return x\n",
    "ironman_df.groupby('team').apply(apply_func)"
   ]
  },
  {
   "cell_type": "code",
   "execution_count": 48,
   "metadata": {},
   "outputs": [
    {
     "data": {
      "text/plain": [
       "2018-10-11    0\n",
       "2018-10-12    1\n",
       "2017-10-11    2\n",
       "2017-10-12    3\n",
       "dtype: int32"
      ]
     },
     "execution_count": 48,
     "metadata": {},
     "output_type": "execute_result"
    }
   ],
   "source": [
    "ironman_index = pd.DatetimeIndex(['2018-10-11','2018-10-12','2017-10-11','2017-10-12'])\n",
    "ironman_data = pd.Series(np.arange(4), index = ironman_index)\n",
    "ironman_data\n"
   ]
  },
  {
   "cell_type": "code",
   "execution_count": 49,
   "metadata": {},
   "outputs": [
    {
     "data": {
      "text/plain": [
       "2018-10-11    0\n",
       "2018-10-12    1\n",
       "dtype: int32"
      ]
     },
     "execution_count": 49,
     "metadata": {},
     "output_type": "execute_result"
    }
   ],
   "source": [
    "ironman_data['2018']\n"
   ]
  },
  {
   "cell_type": "code",
   "execution_count": 50,
   "metadata": {},
   "outputs": [
    {
     "data": {
      "text/plain": [
       "DatetimeIndex(['2018-10-11', '2018-10-12', '2018-10-13', '2018-10-14',\n",
       "               '2018-10-15'],\n",
       "              dtype='datetime64[ns]', freq='D')"
      ]
     },
     "execution_count": 50,
     "metadata": {},
     "output_type": "execute_result"
    }
   ],
   "source": [
    "pd.date_range('2018-10-11', '2018-10-15')\n",
    "pd.date_range('2018-10-11', periods=5, freq='D')"
   ]
  },
  {
   "cell_type": "code",
   "execution_count": 51,
   "metadata": {},
   "outputs": [
    {
     "ename": "NameError",
     "evalue": "name 'DatetimeIndex' is not defined",
     "output_type": "error",
     "traceback": [
      "\u001b[1;31m---------------------------------------------------------------------------\u001b[0m",
      "\u001b[1;31mNameError\u001b[0m                                 Traceback (most recent call last)",
      "\u001b[1;32m<ipython-input-51-5e4f8e675b4d>\u001b[0m in \u001b[0;36m<module>\u001b[1;34m\u001b[0m\n\u001b[1;32m----> 1\u001b[1;33m DatetimeIndex(['2018-10-11', '2018-10-12', '2018-10-13', '2018-10-14',\n\u001b[0m\u001b[0;32m      2\u001b[0m                '2018-10-15'],\n\u001b[0;32m      3\u001b[0m               dtype='datetime64[ns]', freq='D')\n",
      "\u001b[1;31mNameError\u001b[0m: name 'DatetimeIndex' is not defined"
     ]
    }
   ],
   "source": [
    "DatetimeIndex(['2018-10-11', '2018-10-12', '2018-10-13', '2018-10-14',\n",
    "               '2018-10-15'],\n",
    "              dtype='datetime64[ns]', freq='D')"
   ]
  },
  {
   "cell_type": "code",
   "execution_count": 52,
   "metadata": {},
   "outputs": [
    {
     "name": "stdout",
     "output_type": "stream",
     "text": [
      "131 ms ± 8.12 ms per loop (mean ± std. dev. of 7 runs, 1 loop each)\n",
      "60.6 ms ± 1 ms per loop (mean ± std. dev. of 7 runs, 10 loops each)\n"
     ]
    }
   ],
   "source": [
    "rng = np.random.RandomState(42)\n",
    "df1, df2, df3, df4 = (pd.DataFrame(rng.rand(100000, 100)) for i in range(4))\n",
    "%timeit df1+df2+df3+df4\n",
    "%timeit pd.eval('df1+df2+df3+df4')"
   ]
  },
  {
   "cell_type": "code",
   "execution_count": 53,
   "metadata": {},
   "outputs": [
    {
     "name": "stdout",
     "output_type": "stream",
     "text": [
      "440 µs ± 42.5 µs per loop (mean ± std. dev. of 7 runs, 1000 loops each)\n",
      "4.98 ms ± 95.1 µs per loop (mean ± std. dev. of 7 runs, 100 loops each)\n"
     ]
    }
   ],
   "source": [
    "ironman_df = pd.DataFrame(rng.rand(100000, 3) , columns=['A','B','C'])\n",
    "%timeit (ironman_df['A'] < ironman_df['B'])\n",
    "%timeit ironman_df.query('A < B')"
   ]
  },
  {
   "cell_type": "code",
   "execution_count": 55,
   "metadata": {},
   "outputs": [],
   "source": [
    "# basic\n",
    "import numpy as np\n",
    "import pandas as pd\n",
    "\n",
    "# matplotlib\n",
    "import matplotlib.pyplot as plt\n",
    "%matplotlib inline\n",
    "\n",
    "# seaborn\n",
    "import seaborn as sns"
   ]
  },
  {
   "cell_type": "code",
   "execution_count": 56,
   "metadata": {},
   "outputs": [
    {
     "data": {
      "text/plain": [
       "<matplotlib.axes._subplots.AxesSubplot at 0x2795a9df240>"
      ]
     },
     "execution_count": 56,
     "metadata": {},
     "output_type": "execute_result"
    },
    {
     "data": {
      "image/png": "[encoded data removed]",
      "text/plain": [
       "<Figure size 432x288 with 1 Axes>"
      ]
     },
     "metadata": {
      "needs_background": "light"
     },
     "output_type": "display_data"
    }
   ],
   "source": [
    "sns.load_dataset('flights')\n",
    "ironman_series = pd.Series(np.random.randn(1000))\n",
    "ironman_series.plot(kind='hist')"
   ]
  },
  {
   "cell_type": "code",
   "execution_count": 58,
   "metadata": {},
   "outputs": [
    {
     "data": {
      "text/plain": [
       "<matplotlib.axes._subplots.AxesSubplot at 0x2795aa04198>"
      ]
     },
     "execution_count": 58,
     "metadata": {},
     "output_type": "execute_result"
    },
    {
     "data": {
      "image/png": "[encoded data removed]",
      "text/plain": [
       "<Figure size 432x288 with 1 Axes>"
      ]
     },
     "metadata": {
      "needs_background": "light"
     },
     "output_type": "display_data"
    }
   ],
   "source": [
    "ironman_df = sns.load_dataset('flights')\n",
    "ironman_df = ironman_df.pivot(index='month', columns='year', values='passengers')\n",
    "sns.barplot(ironman_df.sum().index,ironman_df.sum().values)\n",
    "\n",
    "ironman_df.sum().plot(kind=\"bar\")"
   ]
  },
  {
   "cell_type": "code",
   "execution_count": 63,
   "metadata": {},
   "outputs": [
    {
     "name": "stdout",
     "output_type": "stream",
     "text": [
      "valueCount/1000----> 3    0.3472\n",
      "1    0.2480\n",
      "4    0.1974\n",
      "2    0.1072\n",
      "5    0.1002\n",
      "dtype: float64\n"
     ]
    }
   ],
   "source": [
    "import numpy as np\n",
    "import pandas as pd\n",
    "\n",
    "ironman = np.random.choice([1,2,3,4,5], size=10000, p=[0.25,0.1,0.35,0.2,0.1])\n",
    "valueCount = pd.Series(ironman).value_counts()\n",
    "print('valueCount/1000---->', valueCount/10000)"
   ]
  },
  {
   "cell_type": "code",
   "execution_count": null,
   "metadata": {},
   "outputs": [],
   "source": []
  },
  {
   "cell_type": "code",
   "execution_count": 135,
   "metadata": {},
   "outputs": [
    {
     "name": "stdout",
     "output_type": "stream",
     "text": [
      "{'c': 50, 'captialAmount': 127.49999999999999, 'rate': 0.5968719422671311, 'year': 2, 'ra': 2.55}\n"
     ]
    }
   ],
   "source": [
    "import math as math\n",
    "import numpy as np\n",
    "# 收益率\n",
    "def calROA(c,rate,year): \n",
    "    return c*(1+(rate))\n",
    "# 波動性\n",
    "def calWave(c,rateArray,year):\n",
    "    ra=np.prod( 1+(np.array(rateArray)))\n",
    "    ca=c*ra    \n",
    "    rate = math.pow((ca/c),1/year)-1\n",
    "    data={'c':c, 'captialAmount':ca,'rate':rate,'year':year,'ra':ra}\n",
    "    return data\n",
    "a=[0.5,0.7]  \n",
    "print(calWave(50,a,len(a)))\n",
    "\n",
    "# cc=50\n",
    "# c1=0.5\n",
    "# c1c=calROA(cc,c1)\n",
    "# c1c\n",
    "# print(c1c)\n",
    "# c2=-0.3\n",
    "\n",
    "# c2c=calROA(c1c,c2)\n",
    "# print(c2c)\n",
    "    "
   ]
  },
  {
   "cell_type": "code",
   "execution_count": 111,
   "metadata": {},
   "outputs": [
    {
     "name": "stdout",
     "output_type": "stream",
     "text": [
      "一年的資本額： 601.6077884148732    二年的資本額： 7238.638621628698\n"
     ]
    }
   ],
   "source": [
    "money = 50\n",
    "day = 250\n",
    "print('一年的資本額：',math.pow(1+0.01,day) * money, \"   二年的資本額：\",math.pow(1+0.01,day*2) * money)"
   ]
  },
  {
   "cell_type": "code",
   "execution_count": 139,
   "metadata": {},
   "outputs": [
    {
     "name": "stdout",
     "output_type": "stream",
     "text": [
      "[2.0, 1.75, 2.1000000000000227, 1.75, 0.9499999999999886, 1.4499999999999886, 2.0, 1.6500000000000057, 1.1500000000000057, 1.6999999999999886, 2.200000000000017, 2.5500000000000114, 3.1500000000000057, 4.300000000000011, 4.200000000000017, 3.1499999999999773, 1.8499999999999943, 0.6499999999999773, -0.950000000000017, -2.299999999999983, -2.6999999999999886, -2.0999999999999943]\n"
     ]
    }
   ],
   "source": [
    "from twstock import Stock\n",
    "\n",
    "stock = Stock('2330')                             # 擷取台積電股價\n",
    "ma_p = stock.moving_average(stock.price, 5)       # 計算五日均價\n",
    "ma_c = stock.moving_average(stock.capacity, 5)    # 計算五日均量\n",
    "ma_p_cont = stock.continuous(ma_p)                # 計算五日均價持續天數\n",
    "ma_br = stock.ma_bias_ratio(5, 10)                # 計算五日、十日乖離值\n",
    "print(ma_br)"
   ]
  },
  {
   "cell_type": "code",
   "execution_count": 141,
   "metadata": {},
   "outputs": [
    {
     "data": {
      "text/plain": [
       "{'timestamp': 1552372200.0,\n",
       " 'info': {'code': '2330',\n",
       "  'channel': '2330.tw',\n",
       "  'name': '台積電',\n",
       "  'fullname': '台灣積體電路製造股份有限公司',\n",
       "  'time': '2019-03-12 14:30:00'},\n",
       " 'realtime': {'latest_trade_price': '235.50',\n",
       "  'trade_volume': '2829',\n",
       "  'accumulate_trade_volume': '23530',\n",
       "  'best_bid_price': ['235.50', '235.00', '234.50', '234.00', '233.50'],\n",
       "  'best_bid_volume': ['399', '2290', '2647', '1796', '892'],\n",
       "  'best_ask_price': ['236.00', '236.50', '237.00', '237.50', '238.00'],\n",
       "  'best_ask_volume': ['203', '1412', '1787', '439', '686'],\n",
       "  'open': '233.00',\n",
       "  'high': '237.00',\n",
       "  'low': '232.50'},\n",
       " 'success': True}"
      ]
     },
     "execution_count": 141,
     "metadata": {},
     "output_type": "execute_result"
    }
   ],
   "source": [
    "import twstock\n",
    "\n",
    "twstock.realtime.get('2330')    # 擷取當前台積電股票資訊\n",
    "# twstock.realtime.get(['2330', '2337', '2409'])  # 擷取當前三檔資訊"
   ]
  },
  {
   "cell_type": "code",
   "execution_count": 143,
   "metadata": {},
   "outputs": [
    {
     "name": "stdout",
     "output_type": "stream",
     "text": [
      "StockCodeInfo(type='股票', code='2329', name='華泰', ISIN='TW0002329000', start='1994/04/20', market='上市', group='半導體業', CFI='ESVUFR')\n"
     ]
    }
   ],
   "source": [
    "print(twstock.codes['2329'])"
   ]
  },
  {
   "cell_type": "code",
   "execution_count": 153,
   "metadata": {},
   "outputs": [
    {
     "name": "stdout",
     "output_type": "stream",
     "text": [
      "price_6207---> [30.3, 30.1, 29.9, 29.9, 30.0]\n",
      "high_6207---> [30.45, 30.45, 30.05, 30.0, 30.2]\n",
      "low_6207---> [30.2, 30.05, 29.7, 29.7, 30.0]\n",
      "date_6207---> [datetime.datetime(2019, 3, 6, 0, 0), datetime.datetime(2019, 3, 7, 0, 0), datetime.datetime(2019, 3, 8, 0, 0), datetime.datetime(2019, 3, 11, 0, 0), datetime.datetime(2019, 3, 12, 0, 0)]\n",
      "DatetimeIndex(['2019-03-06', '2019-03-07', '2019-03-08', '2019-03-11',\n",
      "               '2019-03-12'],\n",
      "              dtype='datetime64[ns]', freq='B')\n",
      "2019-03-06    30.3\n",
      "2019-03-07    30.1\n",
      "2019-03-08    29.9\n",
      "2019-03-11    29.9\n",
      "2019-03-12    30.0\n",
      "Freq: B, dtype: float64\n"
     ]
    },
    {
     "data": {
      "text/html": [
       "<div>\n",
       "<style scoped>\n",
       "    .dataframe tbody tr th:only-of-type {\n",
       "        vertical-align: middle;\n",
       "    }\n",
       "\n",
       "    .dataframe tbody tr th {\n",
       "        vertical-align: top;\n",
       "    }\n",
       "\n",
       "    .dataframe thead th {\n",
       "        text-align: right;\n",
       "    }\n",
       "</style>\n",
       "<table border=\"1\" class=\"dataframe\">\n",
       "  <thead>\n",
       "    <tr style=\"text-align: right;\">\n",
       "      <th></th>\n",
       "      <th>price_6207</th>\n",
       "      <th>high_6207</th>\n",
       "      <th>low_6207</th>\n",
       "    </tr>\n",
       "  </thead>\n",
       "  <tbody>\n",
       "    <tr>\n",
       "      <th>2019-03-06</th>\n",
       "      <td>30.3</td>\n",
       "      <td>30.45</td>\n",
       "      <td>30.20</td>\n",
       "    </tr>\n",
       "    <tr>\n",
       "      <th>2019-03-07</th>\n",
       "      <td>30.1</td>\n",
       "      <td>30.45</td>\n",
       "      <td>30.05</td>\n",
       "    </tr>\n",
       "    <tr>\n",
       "      <th>2019-03-08</th>\n",
       "      <td>29.9</td>\n",
       "      <td>30.05</td>\n",
       "      <td>29.70</td>\n",
       "    </tr>\n",
       "    <tr>\n",
       "      <th>2019-03-11</th>\n",
       "      <td>29.9</td>\n",
       "      <td>30.00</td>\n",
       "      <td>29.70</td>\n",
       "    </tr>\n",
       "    <tr>\n",
       "      <th>2019-03-12</th>\n",
       "      <td>30.0</td>\n",
       "      <td>30.20</td>\n",
       "      <td>30.00</td>\n",
       "    </tr>\n",
       "  </tbody>\n",
       "</table>\n",
       "</div>"
      ],
      "text/plain": [
       "            price_6207  high_6207  low_6207\n",
       "2019-03-06        30.3      30.45     30.20\n",
       "2019-03-07        30.1      30.45     30.05\n",
       "2019-03-08        29.9      30.05     29.70\n",
       "2019-03-11        29.9      30.00     29.70\n",
       "2019-03-12        30.0      30.20     30.00"
      ]
     },
     "execution_count": 153,
     "metadata": {},
     "output_type": "execute_result"
    }
   ],
   "source": [
    "# 開盤價： 是指當日開盤后該股票的第一筆交易成交的價格。如果開市后30分鐘內無成交價，則以前日的收盤價作為開盤價。\n",
    "\n",
    "# 收盤價： 指每天成交中最後一筆股票的價格，也就是收盤價格。\n",
    "\n",
    "# 最高價： 是指當日所成交的價格中的最高價位。有時最高價只有一筆，有時也不止一筆。\n",
    "\n",
    "# 最低價： 是指當日所成交的價格中的最低價位。有時最低價只有一筆，有時也不止一筆。\n",
    "\n",
    "# 熱門股： 是指交易量大、流通性強、股價變動幅度較大的股票。\n",
    "\n",
    "# 成長股： 是指這樣一些公司所發行的股票，它們的銷售額和利潤額持續增長，而且其速度快於整個國家和本行業的增長。這些公司通常有宏圖偉略，注重科研，留有大量利潤作為再投資以促進其擴張。\n",
    "\n",
    "\n",
    "# 這是抓取歷史資料\n",
    "stock_6207 = twstock.Stock('6207')\n",
    "\n",
    "price_6207 = stock_6207.price[-5:]       # 近五日之收盤價\n",
    "high_6207 = stock_6207.high[-5:]         # 近五日之盤中高點\n",
    "low_6207 = stock_6207.low[-5:]           # 近五日之盤中低點\n",
    "date_6207 = stock_6207.date[-5:]         # 近五日的日期\n",
    "\n",
    "print('price_6207--->', price_6207)\n",
    "print('high_6207--->', high_6207)\n",
    "print('low_6207--->', low_6207)\n",
    "print('date_6207--->', date_6207)\n",
    "\n",
    "\n",
    "dti = pd.to_datetime(date_6207)\n",
    "p1=pd.Series(price_6207, index = dti)\n",
    "p2=pd.Series(high_6207, index = dti)\n",
    "p3=pd.Series(low_6207, index = dti)\n",
    "\n",
    "ironman_df = pd.DataFrame({'price_6207':p1, 'high_6207':p2,'low_6207':p3})\n",
    "\n",
    "print(dti)\n",
    "print(p1)\n",
    "\n",
    "ironman_df"
   ]
  },
  {
   "cell_type": "code",
   "execution_count": null,
   "metadata": {},
   "outputs": [],
   "source": []
  }
 ],
 "metadata": {
  "kernelspec": {
   "display_name": "Python 3",
   "language": "python",
   "name": "python3"
  },
  "language_info": {
   "codemirror_mode": {
    "name": "ipython",
    "version": 3
   },
   "file_extension": ".py",
   "mimetype": "text/x-python",
   "name": "python",
   "nbconvert_exporter": "python",
   "pygments_lexer": "ipython3",
   "version": "3.7.1"
  }
 },
 "nbformat": 4,
 "nbformat_minor": 2
}
